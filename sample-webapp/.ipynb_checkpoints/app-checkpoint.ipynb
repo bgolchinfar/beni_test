{
 "cells": [
  {
   "cell_type": "code",
   "execution_count": 1,
   "metadata": {},
   "outputs": [],
   "source": [
    "from flask import Flask, render_template"
   ]
  },
  {
   "cell_type": "code",
   "execution_count": null,
   "metadata": {},
   "outputs": [
    {
     "name": "stdout",
     "output_type": "stream",
     "text": [
      " * Serving Flask app \"__main__\" (lazy loading)\n",
      " * Environment: production\n",
      "   WARNING: This is a development server. Do not use it in a production deployment.\n",
      "   Use a production WSGI server instead.\n",
      " * Debug mode: off\n"
     ]
    },
    {
     "name": "stderr",
     "output_type": "stream",
     "text": [
      " * Running on http://127.0.0.1:5000/ (Press CTRL+C to quit)\n"
     ]
    }
   ],
   "source": [
    "app = Flask(__name__)\n",
    "@app.route(\"/\")\n",
    "def index():\n",
    "     # Load current count\n",
    "    f = open(\"count.txt\", \"r\")\n",
    "    count = int(f.read())\n",
    "    f.close()\n",
    "    \n",
    "    # Increment the count\n",
    "    count += 1\n",
    "    \n",
    "     # Overwrite the count\n",
    "    f = open(\"count.txt\", \"w\")\n",
    "    f.write(str(count))\n",
    "    f.close()\n",
    "    # Render HTML with count variable\n",
    "    return render_template(\"index.html\", count=count)\n",
    "if __name__ == \"__main__\":\n",
    "    app.run()"
   ]
  }
 ],
 "metadata": {
  "kernelspec": {
   "display_name": "bridge-env",
   "language": "python",
   "name": "bridge-env"
  },
  "language_info": {
   "codemirror_mode": {
    "name": "ipython",
    "version": 3
   },
   "file_extension": ".py",
   "mimetype": "text/x-python",
   "name": "python",
   "nbconvert_exporter": "python",
   "pygments_lexer": "ipython3",
   "version": "3.7.7"
  }
 },
 "nbformat": 4,
 "nbformat_minor": 4
}
